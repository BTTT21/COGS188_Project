{
 "cells": [
  {
   "attachments": {},
   "cell_type": "markdown",
   "metadata": {},
   "source": [
    "# COGS 188 - Project Proposal"
   ]
  },
  {
   "attachments": {},
   "cell_type": "markdown",
   "metadata": {},
   "source": [
    "# Project Description\n",
    "\n",
    "You have the choice of doing either (1) an AI solve a problem style project or (2) run a Special Topics class on a topic of your choice.  If you want to do (2) you should fill out the _other_ proposal for that. This is the proposal description for (1).\n",
    "\n",
    "You will design and execute a machine learning project. There are a few constraints on the nature of the allowed project. \n",
    "- The problem addressed will not be a \"toy problem\" or \"common training students problem\" like 8-Queens or a small Traveling Salesman Problem or similar\n",
    "- If its the kind of problem (e.g., RL) that interacts with a simulator or live task, then the problem will have a reasonably complex action space. For instance, a wupus world kind of thing with a 9x9 grid is definitely too small.  A simulated mountain car with a less complex 2-d road and simplified dynamics seems like a fairly low achievement level.  A more complex 3-d mountain car simulation with large extent and realistic dynamics, sure sounds great!\n",
    "- If its the kind of problem that uses a dataset, then the dataset will have >1k observations and >5 variables. I'd prefer more like >10k observations and >10 variables. A general rule is that if you have >100x more observations than variables, your solution will likely generalize a lot better. The goal of training an unsupervised machine learning model is to learn the underlying pattern in a dataset in order to generalize well to unseen data, so choosing a large dataset is very important.\n",
    "- The project must include some elements we talked about in the course\n",
    "- The project will include a model selection and/or feature selection component where you will be looking for the best setup to maximize the performance of your AI system. Generally RL tasks may require a huge amount of training, so extensive grid search is unlikely to be possible. However expoloring a few reasonable hyper-parameters may still be possible. \n",
    "- You will evaluate the performance of your AI system using more than one appropriate metric\n",
    "- You will be writing a report describing and discussing these accomplishments\n",
    "\n",
    "\n",
    "Feel free to delete this description section when you hand in your proposal."
   ]
  },
  {
   "cell_type": "markdown",
   "metadata": {},
   "source": [
    "# Names\n",
    "\n",
    "Hopefully your team is at least this good. Obviously you should replace these with your names.\n",
    "\n",
    "- Haoyu(Eric) Wang\n",
    "- Gexiang(Jason) Zhang\n",
    "- Bryant Zhu\n",
    "- Jiachen Xu"
   ]
  },
  {
   "cell_type": "markdown",
   "metadata": {},
   "source": [
    "# Abstract \n",
    "This section should be short and clearly stated. It should be a single paragraph <200 words.  It should summarize: \n",
    "- what your goal/problem is\n",
    "- what the data used represents and how they are measured\n",
    "- what you will be doing with the data\n",
    "- how performance/success will be measured\n",
    "\n",
    "Our project aims to develop an advanced AI system to efficiently solve 16x32 Minesweeper by implementing Constraint Satisfaction Problem (CSP) techniques, Monte Carlo simulations, and Reinforcement Learning (RL). Unlike toy problems, Minesweeper presents a complex action space with both deterministic logic-based decisions and probabilistic uncertainty, making it a compelling testbed for AI methods.\n",
    "\n",
    "Our AI system will be evaluated using multiple performance metrics, including completion rate, accuracy, and computational efficiency, to identify the most effective combination of techniques. We will also explore hyperparameter tuning to optimize model performance. The results will provide insights into the strengths and limitations of each approach, contributing to a deeper understanding of AI-driven problem-solving in Minesweeper."
   ]
  },
  {
   "attachments": {},
   "cell_type": "markdown",
   "metadata": {},
   "source": [
    "# Background\n",
    "\n",
    "Fill in the background and discuss the kind of prior work that has gone on in this research area here. **Use inline citation** to specify which references support which statements.  You can do that through HTML footnotes (demonstrated here). I used to reccommend Markdown footnotes (google is your friend) because they are simpler but recently I have had some problems with them working for me whereas HTML ones always work so far. So use the method that works for you, but do use inline citations.\n",
    "\n",
    "Here is an example of inline citation. After government genocide in the 20th century, real birds were replaced with surveillance drones designed to look just like birds<a name=\"lorenz\"></a>[<sup>[1]</sup>](#lorenznote). Use a minimum of 3 to 5 citations, but we prefer more <a name=\"admonish\"></a>[<sup>[2]</sup>](#admonishnote). You need enough citations to fully explain and back up important facts. \n",
    "\n",
    "Remeber you are trying to explain why someone would want to answer your question or why your hypothesis is in the form that you've stated. "
   ]
  },
  {
   "cell_type": "markdown",
   "metadata": {},
   "source": [
    "# Problem Statement\n",
    "\n",
    "**1. Brief Rules:**  \n",
    "In Minesweeper, you are presented with a grid where certain cells hide mines. The objective is to reveal all safe cells without uncovering any mines. When a safe cell is revealed, it displays a number that indicates how many of its adjacent cells contain mines; if the number is zero, a cascade effect automatically reveals its neighboring cells. Players can also flag cells they suspect to contain mines to avoid accidental clicks.\n",
    "\n",
    "**2. Environment, Actions, Transition, Reward and Goal:**  \n",
    "The game is played on a 16*30 grid with a predetermined number of mines randomly placed at the start. The player interacts with the environment by choosing to reveal a cell at given coordinates or flag/unflag a cell as potentially dangerous. When a cell is revealed, if it is safe, the board updates to show the number of adjacent mines; if that number is zero, it triggers a cascade reveal of neighboring cells. However, revealing a mine immediately ends the game in a loss. The reward structure typically offers small rewards for safe moves and a significant positive reward for successfully uncovering all safe cells (winning), while revealing a mine results in a large negative reward (losing). The overall goal is to strategically reveal every safe cell without triggering any mines, leveraging logical deduction and, when necessary, probabilistic reasoning.\n",
    "\n",
    "**3. Potential Challenges:**  \n",
    "The main challenges include dealing with partial observability, as the true locations of mines remain hidden until revealed, and handling ambiguous situations that may force the player to guess. Additionally, Minesweeper is computationally complex (NP-complete), and the sparse reward structure can make it difficult for algorithmic or learning-based approaches to effectively deduce optimal moves.\n",
    "\n"
   ]
  },
  {
   "cell_type": "markdown",
   "metadata": {},
   "source": [
    "# Proposed Solution\n",
    "\n",
    "In this section, clearly describe a solution to the problem. The solution should be applicable to the project domain and appropriate for the dataset(s) or input(s) given. Provide enough detail (e.g., algorithmic description and/or theoretical properties) to convince us that your solution is applicable. Why might your solution work? Make sure to describe how the solution will be tested.  \n",
    "\n",
    "If you know details already, describe how (e.g., library used, function calls) you plan to implement the solution in a way that is reproducible.\n",
    "\n",
    "If it is appropriate to the problem statement, describe a benchmark model<a name=\"sota\"></a>[<sup>[3]</sup>](#sotanote) against which your solution will be compared. "
   ]
  },
  {
   "cell_type": "markdown",
   "metadata": {},
   "source": [
    "# Evaluation Metrics\n",
    "\n",
    "Propose at least one evaluation metric that can be used to quantify the performance of both the benchmark model and the solution model. The evaluation metric(s) you propose should be appropriate given the context of the data, the problem statement, and the intended solution. Describe how the evaluation metric(s) are derived and provide an example of their mathematical representations (if applicable). Complex evaluation metrics should be clearly defined and quantifiable (can be expressed in mathematical or logical terms).\n",
    "\n",
    "To evaluate the performance of our Minesweeper AI agents, we propose several key evaluation metrics that reflect both accuracy and efficiency. \n",
    "\n",
    "* The win rate will serve as the primary benchmark, measuring the percentage of games won out of the total games played. This metric quantifies the overall success of each AI strategy. \n",
    "\n",
    "To assess efficiency, we will use the average game completion time, which calculates the mean duration (in seconds) taken to finish a game, whether won or lost. \n",
    "\n",
    "Additionally, the safe move rate, defined as the percentage of moves that do not result in hitting a mine, will provide insight into the agent’s cautiousness and accuracy.\n",
    "\n",
    "Finally, the exploration rate will evaluate how thoroughly the AI reveals non-mine tiles, serving as an indicator of its exploration strategy.\n",
    "\n",
    "Together, these quantifiable metrics will allow for a comprehensive comparison of the performance between the benchmark and proposed AI models, and the best performing model will be our solution model."
   ]
  },
  {
   "cell_type": "markdown",
   "metadata": {},
   "source": [
    "# Ethics & Privacy"
   ]
  },
  {
   "cell_type": "markdown",
   "metadata": {},
   "source": [
    "If your project has obvious potential concerns with ethics or data privacy discuss that here.  Almost every ML project put into production can have ethical implications if you use your imagination. Use your imagination. Get creative!\n",
    "\n",
    "Even if you can't come up with an obvious ethical concern that should be addressed, you should know that a large number of ML projects that go into producation have unintended consequences and ethical problems once in production. How will your team address these issues?\n",
    "\n",
    "Consider a tool to help you address the potential issues such as https://deon.drivendata.org"
   ]
  },
  {
   "cell_type": "markdown",
   "metadata": {},
   "source": [
    "# Team Expectations "
   ]
  },
  {
   "cell_type": "markdown",
   "metadata": {},
   "source": [
    "* Reply to team messages within 24 hours to ensure effective communication.\n",
    "* Attend weekly team meetings and actively participate in discussions.\n",
    "* Be respectful to every teammate—value each other’s opinions, backgrounds, and contributions.\n",
    "* Communicate early and openly about any conflicts or difficulties; work together to find constructive solutions.\n",
    "* Make decisions collaboratively, ensuring every voice is heard. When consensus cannot be reached, vote or defer to the project lead’s decision.\n",
    "* Divide tasks fairly and take responsibility for individual contributions.\n",
    "* Offer and accept constructive feedback with an open mind.\n",
    "* Notify the team in advance if you cannot meet a deadline or attend a meeting."
   ]
  },
  {
   "cell_type": "markdown",
   "metadata": {},
   "source": [
    "# Project Timeline Proposal"
   ]
  },
  {
   "cell_type": "markdown",
   "metadata": {},
   "source": [
    "| Meeting Date  | Meeting Time| Completed Before Meeting  | Discuss at Meeting |\n",
    "|---|---|---|---|\n",
    "| 2/17  |  7 PM |  Complete project proposal  | Discuss potential AI solutions to our problem | \n",
    "| 2/24  |  7 PM |  Refine project proposal | Discuss potential implementation | \n",
    "| 3/3  | 7 PM  | Develop individial solutions  | Discuss individial solutions and evaluation metrics  |\n",
    "| 3/10  | 7 PM  | Refine solutions | Review potential errors and work on report   |\n",
    "| 3/17  | 7 PM  | Finalize report | Review/edit project report |"
   ]
  },
  {
   "cell_type": "markdown",
   "metadata": {},
   "source": [
    "# Footnotes\n",
    "<a name=\"lorenznote\"></a>1.[^](#lorenz): Lorenz, T. (9 Dec 2021) Birds Aren’t Real, or Are They? Inside a Gen Z Conspiracy Theory. *The New York Times*. https://www.nytimes.com/2021/12/09/technology/birds-arent-real-gen-z-misinformation.html<br> \n",
    "<a name=\"admonishnote\"></a>2.[^](#admonish): Also refs should be important to the background, not some randomly chosen vaguely related stuff. Include a web link if possible in refs as above.<br>\n",
    "<a name=\"sotanote\"></a>3.[^](#sota): Perhaps the current state of the art solution such as you see on [Papers with code](https://paperswithcode.com/sota). Or maybe not SOTA, but rather a standard textbook/Kaggle solution to this kind of problem\n"
   ]
  }
 ],
 "metadata": {
  "kernelspec": {
   "display_name": "Python 3",
   "language": "python",
   "name": "python3"
  },
  "language_info": {
   "codemirror_mode": {
    "name": "ipython",
    "version": 3
   },
   "file_extension": ".py",
   "mimetype": "text/x-python",
   "name": "python",
   "nbconvert_exporter": "python",
   "pygments_lexer": "ipython3",
   "version": "3.7.11 (default, Jul 27 2021, 07:03:16) \n[Clang 10.0.0 ]"
  },
  "vscode": {
   "interpreter": {
    "hash": "40d3a090f54c6569ab1632332b64b2c03c39dcf918b08424e98f38b5ae0af88f"
   }
  }
 },
 "nbformat": 4,
 "nbformat_minor": 2
}
